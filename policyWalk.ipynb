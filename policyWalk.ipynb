{
 "cells": [
  {
   "cell_type": "code",
   "id": "initial_id",
   "metadata": {
    "collapsed": true,
    "ExecuteTime": {
     "end_time": "2024-05-25T18:43:16.017054Z",
     "start_time": "2024-05-25T18:43:16.012596Z"
    }
   },
   "source": "import numpy as np",
   "outputs": [],
   "execution_count": 2
  },
  {
   "metadata": {},
   "cell_type": "code",
   "outputs": [],
   "execution_count": null,
   "source": [
    "def policy_walk(distribution, mdp, step, num_iterations):\n",
    "\n",
    "    # Initialize R randomly\n",
    "    R = np.random.uniform(-1, 1, size=mdp.num_states) / step\n",
    "\n",
    "    # Initialize policy randomly\n",
    "    pi = np.random.choice(mdp.num_actions, size=mdp.num_states)\n",
    "\n",
    "    for _ in range(num_iterations):\n",
    "        # Pick a reward vector R_tilde uniformly at random from the neighbors of R\n",
    "        R_tilde = R + np.random.uniform(-step, step, size=distribution.num_states)\n",
    "\n",
    "        # Compute Q for all (s, a)\n",
    "        Q = compute_Q(mdp, R_tilde, pi)\n",
    "\n",
    "        # Check if there exists (s, a) such that Q(s, pi(s), R_tilde) < Q(s, a, R_tilde)\n",
    "        if np.any(Q[np.arange(mdp.num_states), pi] < np.max(Q, axis=1)):\n",
    "            # Perform policy iteration\n",
    "            pi_tilde = policy_iteration(mdp, R_tilde, pi)\n",
    "\n",
    "            # Update R and pi with some probability\n",
    "            if np.random.uniform(0, 1) < min(1, distribution(R_tilde, pi_tilde) / distribution(R, pi)):\n",
    "                R = R_tilde\n",
    "                pi = pi_tilde\n",
    "        else:\n",
    "            # Update R with some probability\n",
    "            if np.random.uniform(0, 1) < min(1, distribution(R_tilde, pi) / distribution(R, pi)):\n",
    "                R = R_tilde\n",
    "\n",
    "    return R"
   ],
   "id": "9adce38899605ee2"
  }
 ],
 "metadata": {
  "kernelspec": {
   "display_name": "Python 3",
   "language": "python",
   "name": "python3"
  },
  "language_info": {
   "codemirror_mode": {
    "name": "ipython",
    "version": 2
   },
   "file_extension": ".py",
   "mimetype": "text/x-python",
   "name": "python",
   "nbconvert_exporter": "python",
   "pygments_lexer": "ipython2",
   "version": "2.7.6"
  }
 },
 "nbformat": 4,
 "nbformat_minor": 5
}
